{
 "cells": [
  {
   "cell_type": "code",
   "execution_count": 2,
   "metadata": {
    "collapsed": false
   },
   "outputs": [],
   "source": [
    "include(\"LineFracGen.jl\")\n",
    "using Winston"
   ]
  },
  {
   "cell_type": "code",
   "execution_count": 10,
   "metadata": {
    "collapsed": false
   },
   "outputs": [
    {
     "data": {
      "text/plain": [
       "render (generic function with 3 methods)"
      ]
     },
     "execution_count": 10,
     "metadata": {},
     "output_type": "execute_result"
    },
    {
     "data": {
      "text/plain": [
       "render (generic function with 3 methods)"
      ]
     },
     "execution_count": 10,
     "metadata": {},
     "output_type": "execute_result"
    }
   ],
   "source": [
    "function render(points, iterations, filename; path = pwd()*\"\\\\renders\", sig_loc = \"LL\")\n",
    "    #saves fractal from 'points' with given 'iteration' at 'path' as 'filename' of size 'plotwidth' by 'plotheight'\n",
    "    \n",
    "    #generate and plot fractal\n",
    "    fractal = frac(points, iterations) \n",
    "    p=plot(fractal[:,1],fractal[:,2],linewidth=.5)\n",
    "    \n",
    "    #locate signature spot\n",
    "    xmin = minimum(fractal[:,1])\n",
    "    xmax = maximum(fractal[:,1])\n",
    "    ymin = minimum(fractal[:,2])\n",
    "    ymax = maximum(fractal[:,2])\n",
    "    \n",
    "    ########### check for clear locations?\n",
    "    \n",
    "    #generate and plot signature\n",
    "    if sig_loc == \"LL\" #signature location is lower left\n",
    "        signature = sig(.015*(xmax-xmin),.03*(ymax-ymin),xmin,ymin) #.05 of total height, at lower left corner\n",
    "    elseif sig_loc == \"LR\" #signature location is lower right\n",
    "        signature = sig(.015*(xmax-xmin),.03*(ymax-ymin),xmax-.015*(xmax-xmin),ymin)\n",
    "    end\n",
    "        \n",
    "    oplot(signature[:,1], signature[:,2], linewidth=.5)\n",
    "    \n",
    "    setattr(p.x1, draw_nothing = true)\n",
    "    setattr(p.x2, draw_nothing = true)\n",
    "    setattr(p.y1, draw_nothing = true)\n",
    "    setattr(p.y2, draw_nothing = true)\n",
    "    savefig(p, path*\"\\\\\"*filename*\".pdf\")\n",
    "    savefig(p, path*\"\\\\\"*filename*\".png\", width = 4096, height=4096)\n",
    "end"
   ]
  },
  {
   "cell_type": "code",
   "execution_count": 4,
   "metadata": {
    "collapsed": false
   },
   "outputs": [
    {
     "data": {
      "text/plain": [
       "renderloop (generic function with 3 methods)"
      ]
     },
     "execution_count": 4,
     "metadata": {},
     "output_type": "execute_result"
    },
    {
     "data": {
      "text/plain": [
       "renderloop (generic function with 3 methods)"
      ]
     },
     "execution_count": 4,
     "metadata": {},
     "output_type": "execute_result"
    }
   ],
   "source": [
    "function renderloop(allpoints, iterations, filename =\"\", path = pwd()*\"\\\\renders\")\n",
    "    #renders all the fractals in 'allpoints'\n",
    "    \n",
    "    for i = 1:size(allpoints,3)\n",
    "        render(allpoints[:,:,i], iterations, filename * string(i), path)\n",
    "    end\n",
    "end"
   ]
  },
  {
   "cell_type": "code",
   "execution_count": 7,
   "metadata": {
    "collapsed": false
   },
   "outputs": [],
   "source": [
    "renderloop(goodones, 4, \"n=4 \",  pwd()*\"\\\\renders\\\\n=4\")"
   ]
  },
  {
   "cell_type": "code",
   "execution_count": 11,
   "metadata": {
    "collapsed": false
   },
   "outputs": [],
   "source": [
    "#fix 11\n",
    "render(goodones[:,:,11],4,\"n=4 11\", path=pwd()*\"\\\\renders\\\\n=4\", sig_loc = \"LR\")"
   ]
  },
  {
   "cell_type": "code",
   "execution_count": 5,
   "metadata": {
    "collapsed": false
   },
   "outputs": [
    {
     "data": {
      "text/plain": [
       "sig (generic function with 5 methods)"
      ]
     },
     "execution_count": 5,
     "metadata": {},
     "output_type": "execute_result"
    },
    {
     "data": {
      "text/plain": [
       "sig (generic function with 5 methods)"
      ]
     },
     "execution_count": 5,
     "metadata": {},
     "output_type": "execute_result"
    }
   ],
   "source": [
    "function sig(width=1, height=1, xloc=0, yloc=0)\n",
    "    #returns signature data points\n",
    "    \n",
    "    x = [0.25 0.5\n",
    "         0.0 0.5\n",
    "         0.0 0.25\n",
    "         0.2 0.25\n",
    "         0.0 0.25\n",
    "         0.0 0.0\n",
    "         0.25 0.0\n",
    "         0.25 0.2\n",
    "         0.25 0.0\n",
    "         0.5 0.0#\n",
    "         0.5 0.2\n",
    "         0.34 0.2\n",
    "         0.5 0.2\n",
    "         0.5 0.4\n",
    "         0.34 0.4\n",
    "         0.5 0.4\n",
    "         0.7 0.4\n",
    "         0.5 0.4\n",
    "         0.5 0.2\n",
    "         0.66 0.2\n",
    "         0.5 0.2\n",
    "         0.5 0.0\n",
    "         0.75 0.0\n",
    "         0.75 0.2\n",
    "         0.75 0.0\n",
    "         1.0 0.0\n",
    "         1.0 0.25\n",
    "         0.8 0.25\n",
    "         1.0 0.25\n",
    "         1.0 0.5\n",
    "         0.75 0.5]\n",
    "    \n",
    "    x *= [0 1; 1 0] #rotate\n",
    "    x[:,1] .*= (2*width) #xscale. times 2 because default is only half a unit wide.\n",
    "    x[:,2] .*= height #yscale. \n",
    "    x .+= [xloc yloc] #translate\n",
    "    \n",
    "    return x\n",
    "end"
   ]
  },
  {
   "cell_type": "code",
   "execution_count": 11,
   "metadata": {
    "collapsed": false
   },
   "outputs": [
    {
     "data": {
      "text/plain": [
       "1x2 Array{Float64,2}:\n",
       " 0.5  -0.4"
      ]
     },
     "execution_count": 11,
     "metadata": {},
     "output_type": "execute_result"
    }
   ],
   "source": [
    "#n=3\n",
    "\n",
    "#initialize\n",
    "goodones = zeros(3,2,3)\n",
    "goodones[end,1,:] = 1\n",
    "#fill with goodness\n",
    "goodones[2,:,1] = [.5 -.6]\n",
    "goodones[2,:,2] = [.5 -.5]\n",
    "goodones[2,:,3] = [.5 -.4]"
   ]
  },
  {
   "cell_type": "code",
   "execution_count": 6,
   "metadata": {
    "collapsed": false
   },
   "outputs": [
    {
     "data": {
      "text/plain": [
       "2x2 Array{Float64,2}:\n",
       " 0.2  -0.8\n",
       " 0.8  -0.8"
      ]
     },
     "execution_count": 6,
     "metadata": {},
     "output_type": "execute_result"
    },
    {
     "data": {
      "text/plain": [
       "2x2 Array{Float64,2}:\n",
       " 0.2  -0.8\n",
       " 0.8  -0.8"
      ]
     },
     "execution_count": 6,
     "metadata": {},
     "output_type": "execute_result"
    }
   ],
   "source": [
    "#n=4\n",
    "\n",
    "#initialize\n",
    "goodones = zeros(4,2,32)\n",
    "goodones[end,1,:] = 1\n",
    "#fill with goodness\n",
    "goodones[2:3,:,1] = [.375 -.31;.625 .31]\n",
    "goodones[2:3,:,2] = [.4 -.8; .6 -.8]\n",
    "goodones[2:3,:,3] = [.0 -.6; .8 -.6]\n",
    "goodones[2:3,:,4] = [.0 -.6; .6 -.4]\n",
    "goodones[2:3,:,5] = [.8 -.4;.2 -.4]\n",
    "goodones[2:3,:,6] = [.0 -.6;.6 .0]\n",
    "goodones[2:3,:,7] = [.2 -.6;.8 -.6]\n",
    "goodones[2:3,:,8] = [.4 -.6;.6 -.6]\n",
    "goodones[2:3,:,9] = [.6 -.6;.4 -.6]\n",
    "goodones[2:3,:,10] = [-.4 -.4;.2 .0]\n",
    "goodones[2:3,:,11] = [-.2 -.4;.6 -.4]\n",
    "goodones[2:3,:,12] = [-.2 -.4;.4 .0]\n",
    "goodones[2:3,:,13] = [-.2 -.4;.6 .0]\n",
    "goodones[2:3,:,14] = [.0 -.4;.4 0]\n",
    "goodones[2:3,:,15] = [.0 -.4;.6 .0]\n",
    "goodones[2:3,:,16] = [.2 -.4;.8 -.4]\n",
    "goodones[2:3,:,17] = [.2 -.4;.6 .0]\n",
    "goodones[2:3,:,18] = [.4 -.4;1.2 -.2]\n",
    "goodones[2:3,:,19] = [.6 -.4;.4 -.4]\n",
    "goodones[2:3,:,20] = [-.6 -.2;.2 .2]\n",
    "goodones[2:3,:,21] = [-.4 -.2;.4 -.2]\n",
    "goodones[2:3,:,22] = [-.4 -.2;.4 .0]\n",
    "goodones[2:3,:,23] = [-.2 -.2; .4 .0]\n",
    "goodones[2:3,:,24] = [-.2 -.2;.4 .2]\n",
    "goodones[2:3,:,25] = [.4 -.2;.6 .2]\n",
    "goodones[2:3,:,26] = [.6 -.2;.2 -.2]\n",
    "goodones[2:3,:,27] = [.6 -.2;.4 -.2]\n",
    "goodones[2:3,:,28] = [.6 -.2;1.2 .0]\n",
    "goodones[2:3,:,29] = [.8 -.2;.2 -.2]\n",
    "goodones[2:3,:,30] = [.285 -.6;1-.285 -.6]\n",
    "goodones[2:3,:,31] = [.6 -.8;.4 -.8]\n",
    "goodones[2:3,:,32] = [.2 -.8;.8 -.8]"
   ]
  },
  {
   "cell_type": "code",
   "execution_count": null,
   "metadata": {
    "collapsed": true
   },
   "outputs": [],
   "source": []
  }
 ],
 "metadata": {
  "kernelspec": {
   "display_name": "Julia 0.4.1",
   "language": "julia",
   "name": "julia-0.4"
  },
  "language_info": {
   "file_extension": ".jl",
   "mimetype": "application/julia",
   "name": "julia",
   "version": "0.4.1"
  }
 },
 "nbformat": 4,
 "nbformat_minor": 0
}
