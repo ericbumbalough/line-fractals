{
 "cells": [
  {
   "cell_type": "markdown",
   "metadata": {},
   "source": [
    "#Fractal Generator\n",
    "##Version History\n",
    "###V0\n",
    "- Initial release\n",
    "\n",
    "###V1\n",
    "- `iterations` now specifies the true number of iterations, not 2^`iterations`."
   ]
  },
  {
   "cell_type": "code",
   "execution_count": 1,
   "metadata": {
    "collapsed": false
   },
   "outputs": [
    {
     "data": {
      "text/plain": [
       "fraciter (generic function with 2 methods)"
      ]
     },
     "execution_count": 1,
     "metadata": {},
     "output_type": "execute_result"
    }
   ],
   "source": [
    "function fraciter(input, base = input)\n",
    "    #returns the matrix obtained by replacing every line in 'base' by 'input'\n",
    "    #input and base are of the form [x1 y1; x2 y2;...]\n",
    "    \n",
    "    l = size(input, 1)\n",
    "    m = size(base, 1)\n",
    "    \n",
    "    output = zeros(1 + (l-1)*(m-1),2)\n",
    "\n",
    "    for n = 1:m - 1\n",
    " \n",
    "        s = sqrt((base[n+1,1]-base[n,1])^2 + (base[n+1,2]-base[n,2])^2) #length of step\n",
    "        theta = atan2((base[n+1,2]-base[n,2]),(base[n+1,1]-base[n,1])) #angle of step\n",
    "\n",
    "        rot = [cos(theta) sin(theta); -sin(theta) cos(theta)] #rotation matrix (transposed)\n",
    "        \n",
    "        output[1+(l-1)*(n-1):1+(l-1)*n,:] = (s * input * rot) #rotate and scale\n",
    "        output[1+(l-1)*(n-1):1+(l-1)*n,1] += base[n,1] #translate x\n",
    "        output[1+(l-1)*(n-1):1+(l-1)*n,2] += base[n,2] #translate y\n",
    "    end\n",
    "    return output\n",
    "end"
   ]
  },
  {
   "cell_type": "code",
   "execution_count": 2,
   "metadata": {
    "collapsed": false
   },
   "outputs": [
    {
     "data": {
      "text/plain": [
       "frac (generic function with 1 method)"
      ]
     },
     "execution_count": 2,
     "metadata": {},
     "output_type": "execute_result"
    }
   ],
   "source": [
    "function frac(start, iterations)\n",
    "    #performs 'iterations' fractal iterations on 'start'\n",
    "\n",
    "    output = [0 0;1 0] #intiialize\n",
    "    \n",
    "    for n=0:floor(Integer,log(2,iterations))\n",
    "        \n",
    "        k = 2^n\n",
    "        if iterations & k == k #compare to binary representation\n",
    "            output = fraciter(start, output)\n",
    "        end\n",
    "        \n",
    "        start = fraciter(start) #move to next power of 2\n",
    "        \n",
    "    end\n",
    "    return output\n",
    "end"
   ]
  }
 ],
 "metadata": {
  "kernelspec": {
   "display_name": "Julia 0.4.0",
   "language": "julia",
   "name": "julia-0.4"
  },
  "language_info": {
   "file_extension": ".jl",
   "mimetype": "application/julia",
   "name": "julia",
   "version": "0.4.0"
  }
 },
 "nbformat": 4,
 "nbformat_minor": 0
}
