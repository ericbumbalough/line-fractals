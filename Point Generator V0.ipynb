{
 "cells": [
  {
   "cell_type": "markdown",
   "metadata": {},
   "source": [
    "#Point Generator\n",
    "##Version History\n",
    "###V0\n",
    "* Initial release.\n",
    "* Generates all combinations of points (including many invalid ones) and then deletes the invalid combinations."
   ]
  },
  {
   "cell_type": "code",
   "execution_count": 106,
   "metadata": {
    "collapsed": false
   },
   "outputs": [
    {
     "data": {
      "text/plain": [
       "gencircle (generic function with 1 method)"
      ]
     },
     "execution_count": 106,
     "metadata": {},
     "output_type": "execute_result"
    }
   ],
   "source": [
    "function gencircle(step, radius)\n",
    "    #returns all the data points in a cirlce of 'radius'. 'step' is point spacing.\n",
    "    \n",
    "    numpoints = ceil(Integer, radius/step) - 1 #number of points in one direction\n",
    "    maxpoint = numpoints * step\n",
    "    \n",
    "    xcircle = vec([x for x = -maxpoint:step:maxpoint, y = -maxpoint:step:maxpoint])\n",
    "    ycircle = vec([y for x = -maxpoint:step:maxpoint, y = -maxpoint:step:maxpoint])\n",
    "    distancesq = xcircle.^2 + ycircle.^2\n",
    "    xcircle = xcircle[distancesq .<= radius^2] #remove points that are too far away\n",
    "    ycircle = ycircle[distancesq .<= radius^2]\n",
    "    \n",
    "    circle = [xcircle ycircle]\n",
    "    return circle\n",
    "end"
   ]
  },
  {
   "cell_type": "code",
   "execution_count": 102,
   "metadata": {
    "collapsed": false
   },
   "outputs": [
    {
     "data": {
      "text/plain": [
       "genpoints (generic function with 1 method)"
      ]
     },
     "execution_count": 102,
     "metadata": {},
     "output_type": "execute_result"
    }
   ],
   "source": [
    "function genpoints(n::Int, step)\n",
    "    #generates all sequences of 'n' points from 0,0 to 1,0. points are spaced by step.\n",
    "    #output format: cell array. points[i] give all possible points for step i.\n",
    "    \n",
    "    #initialize\n",
    "    points = cell(n) #all possible points for each step\n",
    "    points[1] = [0.0 0.0] #first point is 0,0\n",
    "    points[n] = [1.0 0.0] #last point is 1,0\n",
    "    \n",
    "    #generate all points\n",
    "    firsthalf = [gencircle(step, i-1) for i = 2:floor(Integer, n/2)] #all possible points for first half\n",
    "    for i = 2:floor(Integer, n/2)\n",
    "        points[i] = gencircle(step, i-1) #first half of sequence\n",
    "        points[n-i+1] = copy(points[i]) #second half of sequence is first half translated by 1\n",
    "        points[n-i+1][:,1] .+= 1\n",
    "    end\n",
    "    \n",
    "    if isodd(n) #there is a middle point\n",
    "        mid = ceil(Integer, n/2)\n",
    "        points[mid] = gencircle(step, mid-1)\n",
    "        distancesq = (points[mid][:,1].-1).^2 + points[mid][:,2].^2\n",
    "        points[mid] = points[mid][distancesq .< (mid-1)^2,:]\n",
    "    end\n",
    "      \n",
    "    #delete bottom half of first circle (n=2) because of symmetry\n",
    "    #points[2] = points[2][points[2][:,2] .<= 0,:]\n",
    "    \n",
    "    return points\n",
    "end"
   ]
  }
 ],
 "metadata": {
  "kernelspec": {
   "display_name": "Julia 0.4.1",
   "language": "julia",
   "name": "julia-0.4"
  },
  "language_info": {
   "file_extension": ".jl",
   "mimetype": "application/julia",
   "name": "julia",
   "version": "0.4.1"
  }
 },
 "nbformat": 4,
 "nbformat_minor": 0
}
